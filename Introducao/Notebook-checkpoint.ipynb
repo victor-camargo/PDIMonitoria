{
 "cells": [
  {
   "cell_type": "markdown",
   "metadata": {},
   "source": [
    "# Organização do ambiente Python IDLE\n",
    "### Faça o download do interpretador em: https://www.python.org/downloads/\n",
    "### Abra o instalador e marque a caixinha \"Add Python 3.X to PATH\" e clique em Install Now\n",
    "### É importante marcá-la para facilitar a instalação das bibliotecas\n",
    "<img src=\"Pictures/path_python.png\">\n",
    "\n",
    "#### Após a instalação, abra o prompt de comando, apertando o atalho Windows + R, escreva cmd e aperte enter, feito isso, escreva os seguintes comandos:\n",
    "* #### pip install opencv-python\n",
    "* #### pip install numpy\n",
    "* #### pip install matplotlib\n"
   ]
  },
  {
   "cell_type": "markdown",
   "metadata": {},
   "source": [
    "# Organização do ambiente Anaconda/Spyder\n",
    "### Faça o download do Anaconda em: https://www.anaconda.com/products/individual#windows\n",
    "### Abra o Anaconda e execute a aplicação CMD.exe Prompt\n",
    "\n",
    "<img src=\"Pictures/anaconda.png\">\n",
    "\n",
    "#### Aberto o terminal, escreva o seguinte comando e aperte enter\n",
    "* #### conda install -c conda-forge opencv\n",
    "\n",
    "#### Agora volte na página do Anaconda e abra o Spyder"
   ]
  },
  {
   "cell_type": "markdown",
   "metadata": {},
   "source": [
    "# Conhecendo as bibliotecas\n",
    "### Os projetos de PDI utilizam 3 bibliotecas principais: \n",
    "* #### NumPy: Uma biblioteca de computação científica, utilizada principalmente para manipulação de arranjos multidimensionais e matrizes\n",
    "* #### Matplotlib: Uma biblioteca para criação de gráficos estáticos, animados e interativos. Utilizada principalmente para plotagem de gráficos\n",
    "* #### OpenCV: Uma biblioteca de Visão Computacional, essa tem um acervo de funções de processamento de imagens."
   ]
  },
  {
   "cell_type": "markdown",
   "metadata": {},
   "source": [
    "# Preparação para os projetos\n",
    "\n",
    "### Iniciaremos importando as bibliotecas instaladas"
   ]
  },
  {
   "cell_type": "code",
   "execution_count": 1,
   "metadata": {},
   "outputs": [],
   "source": [
    "import numpy as np # Importa a biblioteca numpy e utiliza a namespace np para acessar as funções dessa biblioteca\n",
    "import matplotlib.pyplot as plt # Importa as funções de plotagem da matplotlib com a namespace plt\n",
    "import cv2"
   ]
  },
  {
   "cell_type": "markdown",
   "metadata": {},
   "source": [
    "#### Criaremos alguns arrays para mostrar algumas técnicas de manipulação"
   ]
  },
  {
   "cell_type": "code",
   "execution_count": 56,
   "metadata": {},
   "outputs": [],
   "source": [
    "array1 = np.ones(12) # cria um array de 1 com 12 elementos\n",
    "array2 = np.zeros(20, dtype = np.uint8) # cria um array com inteiros sem sinal de 8 bits valores variam de 0 a 256\n",
    "array3 = np.array([0,4, 7, 9 ,3, 1, 100]) # cria um array com valores prédefinidos"
   ]
  },
  {
   "cell_type": "code",
   "execution_count": 57,
   "metadata": {},
   "outputs": [
    {
     "name": "stdout",
     "output_type": "stream",
     "text": [
      "[1. 1. 1. 1. 1. 1. 1. 1. 1. 1. 1. 1.]\n"
     ]
    }
   ],
   "source": [
    "print(array1)"
   ]
  },
  {
   "cell_type": "code",
   "execution_count": 36,
   "metadata": {},
   "outputs": [
    {
     "name": "stdout",
     "output_type": "stream",
     "text": [
      "[0 0 0 0 0 0 0 0 0 0 0 0 0 0 0 0 0 0 0 0]\n"
     ]
    }
   ],
   "source": [
    "print(array2)"
   ]
  },
  {
   "cell_type": "code",
   "execution_count": 37,
   "metadata": {},
   "outputs": [
    {
     "name": "stdout",
     "output_type": "stream",
     "text": [
      "[  0   4   7   9   3   1 100]\n"
     ]
    }
   ],
   "source": [
    "print(array3)"
   ]
  },
  {
   "cell_type": "code",
   "execution_count": 38,
   "metadata": {},
   "outputs": [
    {
     "data": {
      "text/plain": [
       "(7,)"
      ]
     },
     "execution_count": 38,
     "metadata": {},
     "output_type": "execute_result"
    }
   ],
   "source": [
    "array3.shape # mostra o tamanho do array3"
   ]
  },
  {
   "cell_type": "markdown",
   "metadata": {},
   "source": [
    "#### Existem alguns métodos interessantes para manipular arrays\n",
    "##### Operações de indexing básicas"
   ]
  },
  {
   "cell_type": "code",
   "execution_count": 24,
   "metadata": {},
   "outputs": [
    {
     "data": {
      "text/plain": [
       "array([4, 7])"
      ]
     },
     "execution_count": 24,
     "metadata": {},
     "output_type": "execute_result"
    }
   ],
   "source": [
    "array3[1:3] # obtém o segundo e terceiro elemento desse array"
   ]
  },
  {
   "cell_type": "code",
   "execution_count": 25,
   "metadata": {},
   "outputs": [
    {
     "data": {
      "text/plain": [
       "array([4, 7, 9, 3, 1])"
      ]
     },
     "execution_count": 25,
     "metadata": {},
     "output_type": "execute_result"
    }
   ],
   "source": [
    "array3[1:-1] # obtém todos os elementos a partir do segundo até o penúltimo"
   ]
  },
  {
   "cell_type": "code",
   "execution_count": 26,
   "metadata": {},
   "outputs": [
    {
     "data": {
      "text/plain": [
       "array([100,   1,   3,   9,   7,   4,   0])"
      ]
     },
     "execution_count": 26,
     "metadata": {},
     "output_type": "execute_result"
    }
   ],
   "source": [
    "array3[::-1] # Inverte a ordem dos elementos do array"
   ]
  },
  {
   "cell_type": "code",
   "execution_count": 27,
   "metadata": {},
   "outputs": [
    {
     "data": {
      "text/plain": [
       "array([  0,   7,   3, 100])"
      ]
     },
     "execution_count": 27,
     "metadata": {},
     "output_type": "execute_result"
    }
   ],
   "source": [
    "array3[::2] # obtém os elementos do array de 2 em 2 "
   ]
  },
  {
   "cell_type": "markdown",
   "metadata": {},
   "source": [
    "##### Operações aritméticas com vetores"
   ]
  },
  {
   "cell_type": "code",
   "execution_count": 28,
   "metadata": {},
   "outputs": [
    {
     "data": {
      "text/plain": [
       "array([  5,   9,  12,  14,   8,   6, 105])"
      ]
     },
     "execution_count": 28,
     "metadata": {},
     "output_type": "execute_result"
    }
   ],
   "source": [
    "array3 + 5 # Soma 5 a todos os elementos do array"
   ]
  },
  {
   "cell_type": "code",
   "execution_count": 29,
   "metadata": {},
   "outputs": [
    {
     "data": {
      "text/plain": [
       "array([  0,   8,  14,  18,   6,   2, 200])"
      ]
     },
     "execution_count": 29,
     "metadata": {},
     "output_type": "execute_result"
    }
   ],
   "source": [
    "5*array3 # Multiplica todos os elementos do array por 5"
   ]
  },
  {
   "cell_type": "code",
   "execution_count": 30,
   "metadata": {},
   "outputs": [
    {
     "data": {
      "text/plain": [
       "array([ 0. ,  0.8,  1.4,  1.8,  0.6,  0.2, 20. ])"
      ]
     },
     "execution_count": 30,
     "metadata": {},
     "output_type": "execute_result"
    }
   ],
   "source": [
    "array3/5 # divide todos os elementos do array por 5"
   ]
  },
  {
   "cell_type": "code",
   "execution_count": 31,
   "metadata": {},
   "outputs": [
    {
     "data": {
      "text/plain": [
       "array([    0,    16,    49,    81,     9,     1, 10000], dtype=int32)"
      ]
     },
     "execution_count": 31,
     "metadata": {},
     "output_type": "execute_result"
    }
   ],
   "source": [
    "array3*array3 # multiplica 2 arrays, o numpy implementa outros tipos de multiplicação de array(np.dot, np.matmul, ...)"
   ]
  },
  {
   "cell_type": "markdown",
   "metadata": {},
   "source": [
    "### Criação de Matrizes"
   ]
  },
  {
   "cell_type": "code",
   "execution_count": 50,
   "metadata": {},
   "outputs": [],
   "source": [
    "matriz1 = np.zeros((3, 3)) # cria uma matriz 2D de zeros 3x3\n",
    "matriz2 = np.ones((5,5), dtype = np.uint8) # cria uma matriz de \"1\" com inteiros sem sinal de 8 bits\n",
    "matriz3 = np.array([[1, 3, 7, 12],\n",
    "                   [2, 10, 5, 20],\n",
    "                   [4, 9, 6, 40]]) # cria uma matriz com valores prédefinidos"
   ]
  },
  {
   "cell_type": "code",
   "execution_count": 51,
   "metadata": {},
   "outputs": [
    {
     "data": {
      "text/plain": [
       "array([[0., 0., 0.],\n",
       "       [0., 0., 0.],\n",
       "       [0., 0., 0.]])"
      ]
     },
     "execution_count": 51,
     "metadata": {},
     "output_type": "execute_result"
    }
   ],
   "source": [
    "matriz1"
   ]
  },
  {
   "cell_type": "code",
   "execution_count": 52,
   "metadata": {},
   "outputs": [
    {
     "data": {
      "text/plain": [
       "array([[1, 1, 1, 1, 1],\n",
       "       [1, 1, 1, 1, 1],\n",
       "       [1, 1, 1, 1, 1],\n",
       "       [1, 1, 1, 1, 1],\n",
       "       [1, 1, 1, 1, 1]], dtype=uint8)"
      ]
     },
     "execution_count": 52,
     "metadata": {},
     "output_type": "execute_result"
    }
   ],
   "source": [
    "matriz2"
   ]
  },
  {
   "cell_type": "code",
   "execution_count": 53,
   "metadata": {},
   "outputs": [
    {
     "data": {
      "text/plain": [
       "array([[ 1,  3,  7, 12],\n",
       "       [ 2, 10,  5, 20],\n",
       "       [ 4,  9,  6, 40]])"
      ]
     },
     "execution_count": 53,
     "metadata": {},
     "output_type": "execute_result"
    }
   ],
   "source": [
    "matriz3"
   ]
  },
  {
   "cell_type": "code",
   "execution_count": 54,
   "metadata": {},
   "outputs": [
    {
     "data": {
      "text/plain": [
       "(3, 4)"
      ]
     },
     "execution_count": 54,
     "metadata": {},
     "output_type": "execute_result"
    }
   ],
   "source": [
    "matriz3.shape"
   ]
  },
  {
   "cell_type": "code",
   "execution_count": 55,
   "metadata": {},
   "outputs": [
    {
     "data": {
      "text/plain": [
       "4"
      ]
     },
     "execution_count": 55,
     "metadata": {},
     "output_type": "execute_result"
    }
   ],
   "source": [
    "matriz3.shape[-1] # obtém o último elemento da trupla que contém a dimensão da matriz"
   ]
  },
  {
   "cell_type": "markdown",
   "metadata": {},
   "source": [
    "### Entendendo um pouco mais sobre o OpenCV\n",
    "#### O OpenCV possui funções para manipulação de imagens em diversos formatos(JPG, PNG, BMP, TIF, ...)\n",
    "#### Mostraremos as principais funções aqui"
   ]
  },
  {
   "cell_type": "code",
   "execution_count": null,
   "metadata": {},
   "outputs": [],
   "source": []
  }
 ],
 "metadata": {
  "kernelspec": {
   "display_name": "Python 3",
   "language": "python",
   "name": "python3"
  },
  "language_info": {
   "codemirror_mode": {
    "name": "ipython",
    "version": 3
   },
   "file_extension": ".py",
   "mimetype": "text/x-python",
   "name": "python",
   "nbconvert_exporter": "python",
   "pygments_lexer": "ipython3",
   "version": "3.8.2"
  }
 },
 "nbformat": 4,
 "nbformat_minor": 4
}
